{
 "cells": [
  {
   "cell_type": "code",
   "execution_count": 1,
   "id": "51677fd3",
   "metadata": {},
   "outputs": [],
   "source": [
    "import carla"
   ]
  },
  {
   "cell_type": "code",
   "execution_count": 3,
   "id": "2fa698e6",
   "metadata": {},
   "outputs": [],
   "source": [
    "client = carla.Client('localhost', 2000)\n",
    "world = client.load_world('Town01')"
   ]
  },
  {
   "cell_type": "code",
   "execution_count": 4,
   "id": "ed8c0a96",
   "metadata": {},
   "outputs": [],
   "source": [
    "spawn_points = world.get_map().get_spawn_points()"
   ]
  },
  {
   "cell_type": "code",
   "execution_count": 5,
   "id": "03f78af2",
   "metadata": {},
   "outputs": [],
   "source": [
    "vehicle_bp = world.get_blueprint_library().filter('*charger*')\n",
    "start_point = spawn_points[0]\n",
    "vehicle = world.try_spawn_actor(vehicle_bp[1], start_point)"
   ]
  },
  {
   "cell_type": "code",
   "execution_count": 6,
   "id": "8854a3b4",
   "metadata": {},
   "outputs": [
    {
     "name": "stdout",
     "output_type": "stream",
     "text": [
      "Position: Transform(Location(x=335.489990, y=273.743317, z=-0.000077), Rotation(pitch=0.000000, yaw=90.000046, roll=0.000000))\n"
     ]
    }
   ],
   "source": [
    "vehicle_pos = vehicle.get_transform()\n",
    "print(\"Position:\",vehicle_pos)"
   ]
  },
  {
   "cell_type": "code",
   "execution_count": 7,
   "id": "1a216908",
   "metadata": {},
   "outputs": [],
   "source": [
    "import time\n",
    "import cv2 as cv\n",
    "import numpy as np\n",
    "import math"
   ]
  },
  {
   "cell_type": "code",
   "execution_count": 8,
   "id": "cd3165ec",
   "metadata": {},
   "outputs": [],
   "source": [
    "# setting up camera\n",
    "# offset wrt car\n",
    "camera_z = 3\n",
    "camera_x = -5\n",
    "camera_y = 0\n",
    "\n",
    "camera_bp = world.get_blueprint_library().find('sensor.camera.rgb')\n",
    "camera_bp.set_attribute('image_size_x', '640')\n",
    "camera_bp.set_attribute('image_size_y', '360')\n",
    "\n",
    "camera_transform = carla.Transform(carla.Location(z=camera_z, x=camera_x, y=camera_y))\n",
    "camera = world.spawn_actor(camera_bp,camera_transform,attach_to=vehicle)"
   ]
  },
  {
   "cell_type": "code",
   "execution_count": 9,
   "id": "7f120dd2",
   "metadata": {},
   "outputs": [],
   "source": [
    "# continous stream of images updated to data_dict\n",
    "def camera_callback(image,data_dict):\n",
    "    data_dict['image'] = np.reshape(np.copy(image.raw_data),(image.height,image.width,4))\n",
    "    \n",
    "image_w = camera_bp.get_attribute('image_size_x').as_int()\n",
    "image_h = camera_bp.get_attribute('image_size_y').as_int()\n",
    "camera_data = {'image':np.zeros((image_h,image_w,4))}\n",
    "\n",
    "camera.listen(lambda image: camera_callback(image,camera_data))"
   ]
  },
  {
   "cell_type": "code",
   "execution_count": 10,
   "id": "ad697848",
   "metadata": {},
   "outputs": [],
   "source": [
    "speed_limit = 30\n",
    "speed_soft_max = 25\n",
    "\n",
    "font = cv.FONT_HERSHEY_SIMPLEX\n",
    "\n",
    "org = (30,30)\n",
    "org2 = (30,50)\n",
    "org3 = (30,70)\n",
    "fontScale = 0.5\n",
    "color = (255,255,255)\n",
    "thickness = 1\n",
    "\n",
    "def maintain_speed(cur_speed):\n",
    "    if cur_speed > speed_limit:\n",
    "        return 0\n",
    "    elif cur_speed < speed_soft_max:\n",
    "        return 0.8\n",
    "    else:\n",
    "        return 0.2"
   ]
  },
  {
   "cell_type": "code",
   "execution_count": 13,
   "id": "e3e55b8c",
   "metadata": {},
   "outputs": [],
   "source": [
    "cv.namedWindow('RGB Camera', cv.WINDOW_AUTOSIZE)\n",
    "cv.imshow('RGB Camera', camera_data['image'])\n",
    "\n",
    "quit = False\n",
    "\n",
    "while True:\n",
    "    world.tick()\n",
    "    if cv.waitKey(1) == ord('q'):\n",
    "        quit = True\n",
    "        break\n",
    "    image = camera_data['image']\n",
    "    steering_angle = 0\n",
    "    cur_velocity = vehicle.get_velocity()\n",
    "    # convert velocity to scalar speed\n",
    "    cur_speed = round(3.6* math.sqrt(cur_velocity.x**2+cur_velocity.y**2+cur_velocity.z**2),0)\n",
    "    \n",
    "    image=cv.putText(image, 'Speed:' +str(int(cur_speed))+'kmph',\n",
    "                     org2,font,fontScale,color,thickness,cv.LINE_AA)\n",
    "    throttle = maintain_speed(cur_speed)\n",
    "    vehicle.apply_control(carla.VehicleControl(throttle=throttle,steer=steering_angle))\n",
    "    cv.imshow('RGB Camera', image)\n",
    "    \n",
    "cv.destroyAllWindows()\n",
    "camera.stop()\n",
    "for actor in world.get_actors().filter('*vehicle*'):\n",
    "    actor.destroy()\n",
    "for sensor in world.get_actors().filter('*sensor*'):\n",
    "    sensor.destroy()"
   ]
  },
  {
   "cell_type": "code",
   "execution_count": null,
   "id": "44316e92",
   "metadata": {},
   "outputs": [],
   "source": []
  },
  {
   "cell_type": "code",
   "execution_count": null,
   "id": "65d836ab",
   "metadata": {},
   "outputs": [],
   "source": []
  }
 ],
 "metadata": {
  "kernelspec": {
   "display_name": "Python 3 (ipykernel)",
   "language": "python",
   "name": "python3"
  },
  "language_info": {
   "codemirror_mode": {
    "name": "ipython",
    "version": 3
   },
   "file_extension": ".py",
   "mimetype": "text/x-python",
   "name": "python",
   "nbconvert_exporter": "python",
   "pygments_lexer": "ipython3",
   "version": "3.7.16"
  }
 },
 "nbformat": 4,
 "nbformat_minor": 5
}
