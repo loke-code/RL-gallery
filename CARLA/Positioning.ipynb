{
 "cells": [
  {
   "cell_type": "code",
   "execution_count": 1,
   "id": "12c73ab2",
   "metadata": {},
   "outputs": [
    {
     "name": "stdout",
     "output_type": "stream",
     "text": [
      "Done\n"
     ]
    }
   ],
   "source": [
    "import carla\n",
    "print('Done')"
   ]
  },
  {
   "cell_type": "code",
   "execution_count": 2,
   "id": "72c9c903",
   "metadata": {},
   "outputs": [],
   "source": [
    "client = carla.Client('localhost', 2000)\n",
    "world = client.load_world('Town01')"
   ]
  },
  {
   "cell_type": "code",
   "execution_count": 3,
   "id": "71b757b3",
   "metadata": {},
   "outputs": [],
   "source": [
    "spawn_points = world.get_map().get_spawn_points()"
   ]
  },
  {
   "cell_type": "code",
   "execution_count": 4,
   "id": "8fec0dff",
   "metadata": {},
   "outputs": [],
   "source": [
    "vehicle_bp = world.get_blueprint_library().filter('*firetruck*')\n",
    "start_point = spawn_points[1]\n",
    "vehicle = world.try_spawn_actor(vehicle_bp[0], start_point)"
   ]
  },
  {
   "cell_type": "code",
   "execution_count": 5,
   "id": "e5147ab3",
   "metadata": {},
   "outputs": [
    {
     "name": "stdout",
     "output_type": "stream",
     "text": [
      "Position: Transform(Location(x=299.399994, y=133.240036, z=-0.002095), Rotation(pitch=0.000000, yaw=0.000000, roll=0.000000))\n"
     ]
    }
   ],
   "source": [
    "vehicle_pos = vehicle.get_transform()\n",
    "print(\"Position:\",vehicle_pos)"
   ]
  },
  {
   "cell_type": "code",
   "execution_count": 6,
   "id": "e1caa710",
   "metadata": {},
   "outputs": [
    {
     "name": "stdout",
     "output_type": "stream",
     "text": [
      "Transform(Location(x=299.399994, y=133.240036, z=0.300000), Rotation(pitch=0.000000, yaw=-0.000092, roll=0.000000))\n"
     ]
    }
   ],
   "source": [
    "print(start_point)"
   ]
  },
  {
   "cell_type": "code",
   "execution_count": 7,
   "id": "55aed466",
   "metadata": {},
   "outputs": [],
   "source": [
    "vehicle.set_autopilot(True)"
   ]
  },
  {
   "cell_type": "code",
   "execution_count": 8,
   "id": "8a0f0866",
   "metadata": {},
   "outputs": [
    {
     "name": "stdout",
     "output_type": "stream",
     "text": [
      "Position: Transform(Location(x=312.901337, y=133.477158, z=-0.005250), Rotation(pitch=0.158146, yaw=0.523396, roll=0.005585))\n"
     ]
    }
   ],
   "source": [
    "vehicle_pos = vehicle.get_transform()\n",
    "print(\"Position:\",vehicle_pos)"
   ]
  },
  {
   "cell_type": "code",
   "execution_count": 9,
   "id": "52214532",
   "metadata": {},
   "outputs": [
    {
     "name": "stdout",
     "output_type": "stream",
     "text": [
      "Map(name=Carla/Maps/Town01)\n"
     ]
    }
   ],
   "source": [
    "town_map = world.get_map()\n",
    "print(town_map)"
   ]
  },
  {
   "cell_type": "code",
   "execution_count": 10,
   "id": "212f58b1",
   "metadata": {},
   "outputs": [],
   "source": [
    "import sys\n",
    "sys.path.append('C:/CARLA/WindowsNoEditor/PythonAPI/carla')\n",
    "from agents.navigation.global_route_planner import GlobalRoutePlanner"
   ]
  },
  {
   "cell_type": "code",
   "execution_count": 18,
   "id": "545728d8",
   "metadata": {},
   "outputs": [
    {
     "name": "stdout",
     "output_type": "stream",
     "text": [
      "Location(x=299.399994, y=129.750000, z=0.300000) Location(x=202.550003, y=55.840000, z=0.300000)\n"
     ]
    }
   ],
   "source": [
    "point_a = spawn_points[2].location\n",
    "point_b = spawn_points[10].location\n",
    "print(point_a,point_b)"
   ]
  },
  {
   "cell_type": "code",
   "execution_count": 19,
   "id": "1dac029b",
   "metadata": {},
   "outputs": [],
   "source": [
    "sampling_resolution = 2\n",
    "grp = GlobalRoutePlanner(town_map, sampling_resolution)"
   ]
  },
  {
   "cell_type": "code",
   "execution_count": 20,
   "id": "ae95395a",
   "metadata": {},
   "outputs": [],
   "source": [
    "route = grp.trace_route(point_a,point_b) "
   ]
  },
  {
   "cell_type": "code",
   "execution_count": 21,
   "id": "313cadf6",
   "metadata": {},
   "outputs": [],
   "source": [
    "for waypoint in route:\n",
    "    world.debug.draw_string(waypoint[0].transform.location,'^',draw_shadow=False,\n",
    "                           color=carla.Color(r=0,g=0,b=255),life_time=120.0,persistent_lines=True)"
   ]
  },
  {
   "cell_type": "code",
   "execution_count": 23,
   "id": "c28cf7a4",
   "metadata": {},
   "outputs": [
    {
     "ename": "NameError",
     "evalue": "name 'actor' is not defined",
     "output_type": "error",
     "traceback": [
      "\u001b[1;31m---------------------------------------------------------------------------\u001b[0m",
      "\u001b[1;31mNameError\u001b[0m                                 Traceback (most recent call last)",
      "\u001b[1;32m~\\AppData\\Local\\Temp\\ipykernel_10616\\2086668794.py\u001b[0m in \u001b[0;36m<module>\u001b[1;34m\u001b[0m\n\u001b[1;32m----> 1\u001b[1;33m \u001b[0mactor\u001b[0m\u001b[1;33m.\u001b[0m\u001b[0mdestroy\u001b[0m\u001b[1;33m(\u001b[0m\u001b[1;33m)\u001b[0m\u001b[1;33m\u001b[0m\u001b[1;33m\u001b[0m\u001b[0m\n\u001b[0m",
      "\u001b[1;31mNameError\u001b[0m: name 'actor' is not defined"
     ]
    }
   ],
   "source": [
    "actor.destroy()"
   ]
  },
  {
   "cell_type": "code",
   "execution_count": null,
   "id": "ff06f3d6",
   "metadata": {},
   "outputs": [],
   "source": []
  }
 ],
 "metadata": {
  "kernelspec": {
   "display_name": "Python 3 (ipykernel)",
   "language": "python",
   "name": "python3"
  },
  "language_info": {
   "codemirror_mode": {
    "name": "ipython",
    "version": 3
   },
   "file_extension": ".py",
   "mimetype": "text/x-python",
   "name": "python",
   "nbconvert_exporter": "python",
   "pygments_lexer": "ipython3",
   "version": "3.7.16"
  }
 },
 "nbformat": 4,
 "nbformat_minor": 5
}
